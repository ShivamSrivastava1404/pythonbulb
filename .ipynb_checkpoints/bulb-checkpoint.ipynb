{
 "cells": [
  {
   "cell_type": "code",
   "execution_count": 1,
   "metadata": {},
   "outputs": [],
   "source": [
    "from tkinter import *\n",
    "from PIL import Image,ImageTk"
   ]
  },
  {
   "cell_type": "code",
   "execution_count": 2,
   "metadata": {},
   "outputs": [],
   "source": [
    "scr=Tk(className='Light')\n",
    "scr.geometry('400x400')\n",
    "scr.config(bg='white')\n",
    "img=PhotoImage(file='img/bulb.png')\n",
    "b=Label(scr,image=img,width=65,height=123)\n",
    "b.image=img #if pyimage doesnot exists error occurs then use this line\n",
    "b.place(x=175,y=100)\n",
    "\n",
    "\n",
    "def on():\n",
    "\n",
    "    img2=ImageTk.PhotoImage(Image.open('img/bulb_on1.jpg'))\n",
    "    c=Label(scr,image=img2,width=65,height=123)\n",
    "    c.image=img2\n",
    "    c.place(x=175,y=100)\n",
    "    \n",
    "def off():\n",
    "\n",
    "    img1=PhotoImage(file='img/bulb.png')\n",
    "    e=Label(scr,image=img1,width=65,height=123)\n",
    "    e.image=img1 #if pyimage doesnot exists error occurs then use this line\n",
    "    e.place(x=175,y=100)\n",
    "f=Button(scr,text='Turn_on',bg=\"blue\",fg=\"white\",command=on)\n",
    "f.place(x=50,y=250)\n",
    "d=Button(scr,text='Turn_off',bg=\"blue\",fg=\"white\",command=off)\n",
    "d.place(x=300,y=250)\n",
    "\n",
    "\n",
    "\n",
    "scr.mainloop()"
   ]
  },
  {
   "cell_type": "code",
   "execution_count": null,
   "metadata": {},
   "outputs": [],
   "source": []
  },
  {
   "cell_type": "code",
   "execution_count": null,
   "metadata": {},
   "outputs": [],
   "source": []
  }
 ],
 "metadata": {
  "kernelspec": {
   "display_name": "Python 3",
   "language": "python",
   "name": "python3"
  },
  "language_info": {
   "codemirror_mode": {
    "name": "ipython",
    "version": 3
   },
   "file_extension": ".py",
   "mimetype": "text/x-python",
   "name": "python",
   "nbconvert_exporter": "python",
   "pygments_lexer": "ipython3",
   "version": "3.7.3"
  }
 },
 "nbformat": 4,
 "nbformat_minor": 2
}
